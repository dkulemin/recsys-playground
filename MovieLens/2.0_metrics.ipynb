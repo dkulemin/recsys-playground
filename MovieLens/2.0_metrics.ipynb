{
 "cells": [
  {
   "cell_type": "code",
   "execution_count": 1,
   "metadata": {},
   "outputs": [],
   "source": [
    "from typing import Dict, List, Tuple\n",
    "import sys\n",
    "import importlib\n",
    "\n",
    "import pandas as pd\n",
    "import numpy as np\n",
    "\n",
    "REPO_RELATIVE_PATH = '..'\n",
    "METRICS_MODULE_PATH = 'src.metrics.metrics'\n",
    "\n",
    "if REPO_RELATIVE_PATH not in sys.path:\n",
    "    sys.path.append(REPO_RELATIVE_PATH)"
   ]
  },
  {
   "cell_type": "code",
   "execution_count": 2,
   "metadata": {},
   "outputs": [],
   "source": [
    "items = pd.read_csv(\n",
    "    f'{REPO_RELATIVE_PATH}/datasets/ml-1m/ml-1m.item',\n",
    "    sep='\\t',\n",
    "    header=0,\n",
    "    names=['item_id', 'movie_title', 'release_year', 'genre']\n",
    ")\n",
    "datasets = {\n",
    "    'random': pd.read_csv('splits/random/val.csv', sep='\\t', header=0),\n",
    "    'by_user': pd.read_csv('splits/by_user/val.csv', sep='\\t', header=0),\n",
    "    'lol': pd.read_csv('splits/leave_one_last/val.csv', sep='\\t', header=0),\n",
    "    't_user': pd.read_csv('splits/temporal_user/val.csv', sep='\\t', header=0),\n",
    "    't_global': pd.read_csv('splits/temporal_global/val.csv', sep='\\t', header=0),\n",
    "}"
   ]
  },
  {
   "cell_type": "markdown",
   "metadata": {},
   "source": [
    "Составим выборку случайных фильмов для тестирования метрик на разных сплитах"
   ]
  },
  {
   "cell_type": "code",
   "execution_count": 3,
   "metadata": {},
   "outputs": [
    {
     "data": {
      "text/plain": [
       "0    1365\n",
       "1    2706\n",
       "2    3667\n",
       "3    3684\n",
       "4    1881\n",
       "Name: item_id, dtype: int64"
      ]
     },
     "execution_count": 3,
     "metadata": {},
     "output_type": "execute_result"
    }
   ],
   "source": [
    "random_recommendations = items.sample(frac=1, random_state=42).reset_index()['item_id']\n",
    "random_recommendations.head()"
   ]
  },
  {
   "cell_type": "code",
   "execution_count": 4,
   "metadata": {},
   "outputs": [],
   "source": [
    "def prepare_labels(\n",
    "    df: pd.DataFrame,\n",
    "    threshhold: int | float,\n",
    "    user_id_col: str = 'user_id',\n",
    "    item_id_col: str = 'item_id',\n",
    "    rating_col: str = 'rating'\n",
    ") -> pd.DataFrame:\n",
    "    return (\n",
    "        df\n",
    "        .sort_values([user_id_col, rating_col], ascending=[True, False])\n",
    "        .groupby(user_id_col)\n",
    "        .agg(\n",
    "            items=(item_id_col, lambda x: list(x)),\n",
    "            ratings=(rating_col, lambda x: list(x))\n",
    "        )\n",
    "        .apply(lambda x: [i for (i, r) in zip(x['items'], x['ratings']) if r > threshhold], axis=1)\n",
    "    )"
   ]
  },
  {
   "cell_type": "code",
   "execution_count": 5,
   "metadata": {},
   "outputs": [
    {
     "data": {
      "text/plain": [
       "user_id\n",
       "1                       [1035, 3105, 1193, 1836, 2018]\n",
       "2           [1945, 2002, 1357, 1957, 3468, 3451, 3068]\n",
       "3                             [1259, 1196, 1049, 1394]\n",
       "4                                                   []\n",
       "5    [2427, 3083, 2997, 1175, 2289, 348, 1392, 506,...\n",
       "dtype: object"
      ]
     },
     "execution_count": 5,
     "metadata": {},
     "output_type": "execute_result"
    }
   ],
   "source": [
    "random_labels = prepare_labels(datasets['random'], 3)\n",
    "random_labels.head()"
   ]
  },
  {
   "cell_type": "markdown",
   "metadata": {},
   "source": [
    "Посчитаем метрики для разных сплитов на рандомной подборке"
   ]
  },
  {
   "cell_type": "code",
   "execution_count": 6,
   "metadata": {},
   "outputs": [],
   "source": [
    "def compute_metrics(\n",
    "    datasets: Dict[str, pd.DataFrame],\n",
    "    metric_list_with_kwargs: List[Tuple[str, Dict]],\n",
    "    prepare_labels_kwargs: Dict = dict()\n",
    ") -> None:\n",
    "    metrics_module = importlib.import_module(METRICS_MODULE_PATH)\n",
    "    metrics_module = importlib.reload(metrics_module)\n",
    "    for df_name, df in datasets.items():\n",
    "        df_labels = prepare_labels(df, **prepare_labels_kwargs)\n",
    "        for metric_name, kwargs in metric_list_with_kwargs:\n",
    "            metric = getattr(metrics_module, metric_name)\n",
    "            result = df_labels.apply(lambda x: metric(random_recommendations, x, **kwargs)).mean()\n",
    "            print(f\"{df_name} - {metric_name}({', '.join([f'{k}={v}' for k, v in kwargs.items()])}): {result}\")\n",
    "        print('======================')"
   ]
  },
  {
   "cell_type": "code",
   "execution_count": 7,
   "metadata": {},
   "outputs": [
    {
     "name": "stdout",
     "output_type": "stream",
     "text": [
      "random - precision_at_k(k=10): 0.002046636470390874\n",
      "random - recall_at_k(k=10): 0.002795959045627951\n",
      "random - f1_score_at_k(k=10): 0.001882293666513664\n",
      "random - f_beta_score_at_k(k=10, beta=0.5): 0.0018748805130263393\n",
      "random - f_beta_score_at_k(k=10, beta=2): 0.0021542912492457347\n",
      "random - average_precision_at_k(k=10): 0.0012735136054156787\n",
      "======================\n",
      "by_user - precision_at_k(k=10): 0.019867549668874177\n",
      "by_user - recall_at_k(k=10): 0.003730259055027287\n",
      "by_user - f1_score_at_k(k=10): 0.004720854254498409\n",
      "by_user - f_beta_score_at_k(k=10, beta=0.5): 0.007540983276657631\n",
      "by_user - f_beta_score_at_k(k=10, beta=2): 0.003789592347104757\n",
      "by_user - average_precision_at_k(k=10): 0.0018143039217339793\n",
      "======================\n",
      "lol - precision_at_k(k=10): 0.00029308323563892143\n",
      "lol - recall_at_k(k=10): 0.0029308323563892145\n",
      "lol - f1_score_at_k(k=10): 0.0005328786102525844\n",
      "lol - f_beta_score_at_k(k=10, beta=0.5): 0.0003574185800474652\n",
      "lol - f_beta_score_at_k(k=10, beta=2): 0.0010467258415675766\n",
      "lol - average_precision_at_k(k=10): 0.0012016412661195778\n",
      "======================\n",
      "t_user - precision_at_k(k=10): 0.001583476764199656\n",
      "t_user - recall_at_k(k=10): 0.0019312661802910493\n",
      "t_user - f1_score_at_k(k=10): 0.0013784796162528202\n",
      "t_user - f_beta_score_at_k(k=10, beta=0.5): 0.0014055385368451489\n",
      "t_user - f_beta_score_at_k(k=10, beta=2): 0.0015379526692442165\n",
      "t_user - average_precision_at_k(k=10): 0.0009178036588884117\n",
      "======================\n",
      "t_global - precision_at_k(k=10): 0.010493827160493827\n",
      "t_global - recall_at_k(k=10): 0.0025974681336977377\n",
      "t_global - f1_score_at_k(k=10): 0.0030290944793086765\n",
      "t_global - f_beta_score_at_k(k=10, beta=0.5): 0.004409794072661122\n",
      "t_global - f_beta_score_at_k(k=10, beta=2): 0.002585650901307254\n",
      "t_global - average_precision_at_k(k=10): 0.0012289791912094379\n",
      "======================\n"
     ]
    }
   ],
   "source": [
    "compute_metrics(\n",
    "    datasets,\n",
    "    [\n",
    "        ('precision_at_k', {'k': 10}),\n",
    "        ('recall_at_k', {'k': 10}),\n",
    "        ('f1_score_at_k', {'k': 10}),\n",
    "        ('f_beta_score_at_k', {'k': 10, 'beta': 0.5}),\n",
    "        ('f_beta_score_at_k', {'k': 10, 'beta': 2}),\n",
    "        ('average_precision_at_k', {'k': 10})\n",
    "    ],\n",
    "    {'threshhold': 3}\n",
    ")"
   ]
  },
  {
   "cell_type": "markdown",
   "metadata": {},
   "source": [
    "Оказывается случайная подборка лучше всего сработала для холодного старта, когда мы еще ничего не знаем о пользователе. С другой стороны в этом датасете просто самые длинные списки фильмов, так как брали всю историю просмотров."
   ]
  },
  {
   "cell_type": "markdown",
   "metadata": {},
   "source": [
    "## PR AUC"
   ]
  },
  {
   "cell_type": "code",
   "execution_count": 12,
   "metadata": {},
   "outputs": [
    {
     "data": {
      "text/plain": [
       "user_id\n",
       "1                       [1035, 3105, 1193, 1836, 2018]\n",
       "2           [1945, 2002, 1357, 1957, 3468, 3451, 3068]\n",
       "3                             [1259, 1196, 1049, 1394]\n",
       "4                                                   []\n",
       "5    [2427, 3083, 2997, 1175, 2289, 348, 1392, 506,...\n",
       "dtype: object"
      ]
     },
     "execution_count": 12,
     "metadata": {},
     "output_type": "execute_result"
    }
   ],
   "source": [
    "random_labels.head()"
   ]
  },
  {
   "cell_type": "code",
   "execution_count": 27,
   "metadata": {},
   "outputs": [
    {
     "data": {
      "text/plain": [
       "5961"
      ]
     },
     "execution_count": 27,
     "metadata": {},
     "output_type": "execute_result"
    }
   ],
   "source": [
    "random_labels.reset_index()[0].__len__()"
   ]
  },
  {
   "cell_type": "code",
   "execution_count": 24,
   "metadata": {},
   "outputs": [
    {
     "ename": "KeyError",
     "evalue": "True",
     "output_type": "error",
     "traceback": [
      "\u001b[0;31m---------------------------------------------------------------------------\u001b[0m",
      "\u001b[0;31mKeyError\u001b[0m                                  Traceback (most recent call last)",
      "File \u001b[0;32m~/VSProjects/recsys-playground/.venv/lib/python3.11/site-packages/pandas/core/indexes/base.py:3805\u001b[0m, in \u001b[0;36mIndex.get_loc\u001b[0;34m(self, key)\u001b[0m\n\u001b[1;32m   3804\u001b[0m \u001b[38;5;28;01mtry\u001b[39;00m:\n\u001b[0;32m-> 3805\u001b[0m     \u001b[38;5;28;01mreturn\u001b[39;00m \u001b[38;5;28;43mself\u001b[39;49m\u001b[38;5;241;43m.\u001b[39;49m\u001b[43m_engine\u001b[49m\u001b[38;5;241;43m.\u001b[39;49m\u001b[43mget_loc\u001b[49m\u001b[43m(\u001b[49m\u001b[43mcasted_key\u001b[49m\u001b[43m)\u001b[49m\n\u001b[1;32m   3806\u001b[0m \u001b[38;5;28;01mexcept\u001b[39;00m \u001b[38;5;167;01mKeyError\u001b[39;00m \u001b[38;5;28;01mas\u001b[39;00m err:\n",
      "File \u001b[0;32mindex.pyx:167\u001b[0m, in \u001b[0;36mpandas._libs.index.IndexEngine.get_loc\u001b[0;34m()\u001b[0m\n",
      "File \u001b[0;32mindex.pyx:175\u001b[0m, in \u001b[0;36mpandas._libs.index.IndexEngine.get_loc\u001b[0;34m()\u001b[0m\n",
      "File \u001b[0;32mpandas/_libs/index_class_helper.pxi:70\u001b[0m, in \u001b[0;36mpandas._libs.index.Int64Engine._check_type\u001b[0;34m()\u001b[0m\n",
      "\u001b[0;31mKeyError\u001b[0m: True",
      "\nThe above exception was the direct cause of the following exception:\n",
      "\u001b[0;31mKeyError\u001b[0m                                  Traceback (most recent call last)",
      "Cell \u001b[0;32mIn[24], line 1\u001b[0m\n\u001b[0;32m----> 1\u001b[0m \u001b[43mrandom_labels\u001b[49m\u001b[43m[\u001b[49m\u001b[38;5;28;43mlen\u001b[39;49m\u001b[43m(\u001b[49m\u001b[43mrandom_labels\u001b[49m\u001b[38;5;241;43m.\u001b[39;49m\u001b[43mreset_index\u001b[49m\u001b[43m(\u001b[49m\u001b[43m)\u001b[49m\u001b[43m[\u001b[49m\u001b[38;5;241;43m0\u001b[39;49m\u001b[43m]\u001b[49m\u001b[43m)\u001b[49m\u001b[38;5;241;43m>\u001b[39;49m\u001b[38;5;241;43m10\u001b[39;49m\u001b[43m]\u001b[49m\n",
      "File \u001b[0;32m~/VSProjects/recsys-playground/.venv/lib/python3.11/site-packages/pandas/core/series.py:1121\u001b[0m, in \u001b[0;36mSeries.__getitem__\u001b[0;34m(self, key)\u001b[0m\n\u001b[1;32m   1118\u001b[0m     \u001b[38;5;28;01mreturn\u001b[39;00m \u001b[38;5;28mself\u001b[39m\u001b[38;5;241m.\u001b[39m_values[key]\n\u001b[1;32m   1120\u001b[0m \u001b[38;5;28;01melif\u001b[39;00m key_is_scalar:\n\u001b[0;32m-> 1121\u001b[0m     \u001b[38;5;28;01mreturn\u001b[39;00m \u001b[38;5;28;43mself\u001b[39;49m\u001b[38;5;241;43m.\u001b[39;49m\u001b[43m_get_value\u001b[49m\u001b[43m(\u001b[49m\u001b[43mkey\u001b[49m\u001b[43m)\u001b[49m\n\u001b[1;32m   1123\u001b[0m \u001b[38;5;66;03m# Convert generator to list before going through hashable part\u001b[39;00m\n\u001b[1;32m   1124\u001b[0m \u001b[38;5;66;03m# (We will iterate through the generator there to check for slices)\u001b[39;00m\n\u001b[1;32m   1125\u001b[0m \u001b[38;5;28;01mif\u001b[39;00m is_iterator(key):\n",
      "File \u001b[0;32m~/VSProjects/recsys-playground/.venv/lib/python3.11/site-packages/pandas/core/series.py:1237\u001b[0m, in \u001b[0;36mSeries._get_value\u001b[0;34m(self, label, takeable)\u001b[0m\n\u001b[1;32m   1234\u001b[0m     \u001b[38;5;28;01mreturn\u001b[39;00m \u001b[38;5;28mself\u001b[39m\u001b[38;5;241m.\u001b[39m_values[label]\n\u001b[1;32m   1236\u001b[0m \u001b[38;5;66;03m# Similar to Index.get_value, but we do not fall back to positional\u001b[39;00m\n\u001b[0;32m-> 1237\u001b[0m loc \u001b[38;5;241m=\u001b[39m \u001b[38;5;28;43mself\u001b[39;49m\u001b[38;5;241;43m.\u001b[39;49m\u001b[43mindex\u001b[49m\u001b[38;5;241;43m.\u001b[39;49m\u001b[43mget_loc\u001b[49m\u001b[43m(\u001b[49m\u001b[43mlabel\u001b[49m\u001b[43m)\u001b[49m\n\u001b[1;32m   1239\u001b[0m \u001b[38;5;28;01mif\u001b[39;00m is_integer(loc):\n\u001b[1;32m   1240\u001b[0m     \u001b[38;5;28;01mreturn\u001b[39;00m \u001b[38;5;28mself\u001b[39m\u001b[38;5;241m.\u001b[39m_values[loc]\n",
      "File \u001b[0;32m~/VSProjects/recsys-playground/.venv/lib/python3.11/site-packages/pandas/core/indexes/base.py:3812\u001b[0m, in \u001b[0;36mIndex.get_loc\u001b[0;34m(self, key)\u001b[0m\n\u001b[1;32m   3807\u001b[0m     \u001b[38;5;28;01mif\u001b[39;00m \u001b[38;5;28misinstance\u001b[39m(casted_key, \u001b[38;5;28mslice\u001b[39m) \u001b[38;5;129;01mor\u001b[39;00m (\n\u001b[1;32m   3808\u001b[0m         \u001b[38;5;28misinstance\u001b[39m(casted_key, abc\u001b[38;5;241m.\u001b[39mIterable)\n\u001b[1;32m   3809\u001b[0m         \u001b[38;5;129;01mand\u001b[39;00m \u001b[38;5;28many\u001b[39m(\u001b[38;5;28misinstance\u001b[39m(x, \u001b[38;5;28mslice\u001b[39m) \u001b[38;5;28;01mfor\u001b[39;00m x \u001b[38;5;129;01min\u001b[39;00m casted_key)\n\u001b[1;32m   3810\u001b[0m     ):\n\u001b[1;32m   3811\u001b[0m         \u001b[38;5;28;01mraise\u001b[39;00m InvalidIndexError(key)\n\u001b[0;32m-> 3812\u001b[0m     \u001b[38;5;28;01mraise\u001b[39;00m \u001b[38;5;167;01mKeyError\u001b[39;00m(key) \u001b[38;5;28;01mfrom\u001b[39;00m \u001b[38;5;21;01merr\u001b[39;00m\n\u001b[1;32m   3813\u001b[0m \u001b[38;5;28;01mexcept\u001b[39;00m \u001b[38;5;167;01mTypeError\u001b[39;00m:\n\u001b[1;32m   3814\u001b[0m     \u001b[38;5;66;03m# If we have a listlike key, _check_indexing_error will raise\u001b[39;00m\n\u001b[1;32m   3815\u001b[0m     \u001b[38;5;66;03m#  InvalidIndexError. Otherwise we fall through and re-raise\u001b[39;00m\n\u001b[1;32m   3816\u001b[0m     \u001b[38;5;66;03m#  the TypeError.\u001b[39;00m\n\u001b[1;32m   3817\u001b[0m     \u001b[38;5;28mself\u001b[39m\u001b[38;5;241m.\u001b[39m_check_indexing_error(key)\n",
      "\u001b[0;31mKeyError\u001b[0m: True"
     ]
    }
   ],
   "source": [
    "random_labels[random_labels.reset_index()[0]]"
   ]
  },
  {
   "cell_type": "code",
   "execution_count": null,
   "metadata": {},
   "outputs": [],
   "source": []
  }
 ],
 "metadata": {
  "kernelspec": {
   "display_name": ".venv",
   "language": "python",
   "name": "python3"
  },
  "language_info": {
   "codemirror_mode": {
    "name": "ipython",
    "version": 3
   },
   "file_extension": ".py",
   "mimetype": "text/x-python",
   "name": "python",
   "nbconvert_exporter": "python",
   "pygments_lexer": "ipython3",
   "version": "3.11.1"
  }
 },
 "nbformat": 4,
 "nbformat_minor": 2
}
